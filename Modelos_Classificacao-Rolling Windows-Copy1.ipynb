{
 "cells": [
  {
   "cell_type": "markdown",
   "metadata": {},
   "source": [
    "# Predicting the Popularity of Online News"
   ]
  },
  {
   "cell_type": "markdown",
   "metadata": {},
   "source": [
    "<div align=\"justify\">The purpose of the notebook is to reproduce the work carried out by Fernandes et al. [1] to classify a news article as popular or not popular. For that, we will use a Python language with the NumPy, Pandas, and sci-kit learn libraries. The authors propose an article optimization system that we will not cover in the code below. The code uses the public data set that was made available at <a> https://archive.ics.uci.edu/ml/datasets/online+news+popularity</a>. We will follow the same steps as the authors, using five machine learning algorithms for classification.</div>\n",
    "\n",
    "This Notebook will follow the steps below:\n",
    "    <ul>\n",
    "    <li>Data Preparation</li>\n",
    "    <li>Classes Definition</li>\n",
    "    <li>GridSearch</li>\n",
    "    <li>Rolling Windows</li>\n",
    "    <li>Machine Learning Classification</li>\n",
    "    <li>Conclusion</li>\n",
    "\n"
   ]
  },
  {
   "cell_type": "markdown",
   "metadata": {},
   "source": [
    "# Import from Libraries"
   ]
  },
  {
   "cell_type": "code",
   "execution_count": 1,
   "metadata": {},
   "outputs": [],
   "source": [
    "#libraries for data manipulation\n",
    "import numpy as np\n",
    "import pandas as pd\n",
    "\n",
    "#Models for Machine Learning\n",
    "from sklearn.neighbors import KNeighborsClassifier\n",
    "from sklearn.naive_bayes import GaussianNB\n",
    "from sklearn import svm\n",
    "from sklearn.ensemble import RandomForestClassifier\n",
    "from sklearn.ensemble import AdaBoostClassifier\n",
    "\n",
    "\n",
    "#libraries for selecting features and parameters\n",
    "from sklearn.feature_selection import RFE\n",
    "from sklearn.model_selection import GridSearchCV\n",
    "from sklearn.model_selection import train_test_split\n",
    "\n",
    "#libraries for validation\n",
    "from sklearn.model_selection import cross_val_score\n",
    "from sklearn import metrics\n",
    "from sklearn.metrics import confusion_matrix, classification_report,accuracy_score, make_scorer\n",
    "from sklearn.metrics import balanced_accuracy_score\n",
    "\n",
    "#libraries for graphics\n",
    "import seaborn as sn\n",
    "import pandas as pd\n",
    "import matplotlib.pyplot as plt\n"
   ]
  },
  {
   "cell_type": "markdown",
   "metadata": {},
   "source": [
    "# Data Preparation"
   ]
  },
  {
   "cell_type": "code",
   "execution_count": 2,
   "metadata": {},
   "outputs": [],
   "source": [
    "df = pd.read_csv('online_popularity.csv', sep=',')"
   ]
  },
  {
   "cell_type": "code",
   "execution_count": 3,
   "metadata": {},
   "outputs": [],
   "source": [
    "# recent articles to be discarded\n",
    "df_remove = df.loc[(df[' timedelta']<=21)]\n"
   ]
  },
  {
   "cell_type": "code",
   "execution_count": 4,
   "metadata": {},
   "outputs": [],
   "source": [
    "#Discart recent articles\n",
    "df = df.drop(df_remove.index)\n",
    "\n",
    "#Discart articles until match with 39.000\n",
    "for x in range(16):\n",
    "  df = df.drop(39000 + x)"
   ]
  },
  {
   "cell_type": "code",
   "execution_count": 5,
   "metadata": {},
   "outputs": [
    {
     "data": {
      "text/plain": [
       "Index(['url', ' timedelta', ' n_tokens_title', ' n_tokens_content',\n",
       "       ' n_unique_tokens', ' n_non_stop_words', ' n_non_stop_unique_tokens',\n",
       "       ' num_hrefs', ' num_self_hrefs', ' num_imgs', ' num_videos',\n",
       "       ' average_token_length', ' num_keywords', ' data_channel_is_lifestyle',\n",
       "       ' data_channel_is_entertainment', ' data_channel_is_bus',\n",
       "       ' data_channel_is_socmed', ' data_channel_is_tech',\n",
       "       ' data_channel_is_world', ' kw_min_min', ' kw_max_min', ' kw_avg_min',\n",
       "       ' kw_min_max', ' kw_max_max', ' kw_avg_max', ' kw_min_avg',\n",
       "       ' kw_max_avg', ' kw_avg_avg', ' self_reference_min_shares',\n",
       "       ' self_reference_max_shares', ' self_reference_avg_sharess',\n",
       "       ' weekday_is_monday', ' weekday_is_tuesday', ' weekday_is_wednesday',\n",
       "       ' weekday_is_thursday', ' weekday_is_friday', ' weekday_is_saturday',\n",
       "       ' weekday_is_sunday', ' is_weekend', ' LDA_00', ' LDA_01', ' LDA_02',\n",
       "       ' LDA_03', ' LDA_04', ' global_subjectivity',\n",
       "       ' global_sentiment_polarity', ' global_rate_positive_words',\n",
       "       ' global_rate_negative_words', ' rate_positive_words',\n",
       "       ' rate_negative_words', ' avg_positive_polarity',\n",
       "       ' min_positive_polarity', ' max_positive_polarity',\n",
       "       ' avg_negative_polarity', ' min_negative_polarity',\n",
       "       ' max_negative_polarity', ' title_subjectivity',\n",
       "       ' title_sentiment_polarity', ' abs_title_subjectivity',\n",
       "       ' abs_title_sentiment_polarity', ' shares'],\n",
       "      dtype='object')"
      ]
     },
     "execution_count": 5,
     "metadata": {},
     "output_type": "execute_result"
    }
   ],
   "source": [
    "#view of columns \n",
    "df.columns"
   ]
  },
  {
   "cell_type": "code",
   "execution_count": 6,
   "metadata": {},
   "outputs": [
    {
     "name": "stdout",
     "output_type": "stream",
     "text": [
      "39000\n",
      "39000\n"
     ]
    }
   ],
   "source": [
    "#create Target Feature\n",
    "y = df[' shares']\n",
    "\n",
    "#remove columns url,timedelta and shares\n",
    "x = df.iloc[:,2:60]\n",
    "print(len(y))\n",
    "print(len(x))"
   ]
  },
  {
   "cell_type": "code",
   "execution_count": 7,
   "metadata": {},
   "outputs": [
    {
     "data": {
      "text/plain": [
       "Index([' n_tokens_title', ' n_tokens_content', ' n_unique_tokens',\n",
       "       ' n_non_stop_words', ' n_non_stop_unique_tokens', ' num_hrefs',\n",
       "       ' num_self_hrefs', ' num_imgs', ' num_videos', ' average_token_length',\n",
       "       ' num_keywords', ' data_channel_is_lifestyle',\n",
       "       ' data_channel_is_entertainment', ' data_channel_is_bus',\n",
       "       ' data_channel_is_socmed', ' data_channel_is_tech',\n",
       "       ' data_channel_is_world', ' kw_min_min', ' kw_max_min', ' kw_avg_min',\n",
       "       ' kw_min_max', ' kw_max_max', ' kw_avg_max', ' kw_min_avg',\n",
       "       ' kw_max_avg', ' kw_avg_avg', ' self_reference_min_shares',\n",
       "       ' self_reference_max_shares', ' self_reference_avg_sharess',\n",
       "       ' weekday_is_monday', ' weekday_is_tuesday', ' weekday_is_wednesday',\n",
       "       ' weekday_is_thursday', ' weekday_is_friday', ' weekday_is_saturday',\n",
       "       ' weekday_is_sunday', ' is_weekend', ' LDA_00', ' LDA_01', ' LDA_02',\n",
       "       ' LDA_03', ' LDA_04', ' global_subjectivity',\n",
       "       ' global_sentiment_polarity', ' global_rate_positive_words',\n",
       "       ' global_rate_negative_words', ' rate_positive_words',\n",
       "       ' rate_negative_words', ' avg_positive_polarity',\n",
       "       ' min_positive_polarity', ' max_positive_polarity',\n",
       "       ' avg_negative_polarity', ' min_negative_polarity',\n",
       "       ' max_negative_polarity', ' title_subjectivity',\n",
       "       ' title_sentiment_polarity', ' abs_title_subjectivity',\n",
       "       ' abs_title_sentiment_polarity'],\n",
       "      dtype='object')"
      ]
     },
     "execution_count": 7,
     "metadata": {},
     "output_type": "execute_result"
    }
   ],
   "source": [
    "#new viem of columns\n",
    "x.columns"
   ]
  },
  {
   "cell_type": "code",
   "execution_count": 8,
   "metadata": {},
   "outputs": [
    {
     "data": {
      "text/plain": [
       "0     593\n",
       "1     711\n",
       "2    1500\n",
       "3    1200\n",
       "4     505\n",
       "Name:  shares, dtype: int64"
      ]
     },
     "execution_count": 8,
     "metadata": {},
     "output_type": "execute_result"
    }
   ],
   "source": [
    "#view of shares\n",
    "y.head()"
   ]
  },
  {
   "cell_type": "markdown",
   "metadata": {},
   "source": [
    "# Classes Definition"
   ]
  },
  {
   "cell_type": "markdown",
   "metadata": {},
   "source": [
    "The median of shares defined the Classes. This metric will generate two balanced sets."
   ]
  },
  {
   "cell_type": "code",
   "execution_count": 9,
   "metadata": {},
   "outputs": [],
   "source": [
    "saida_lista= []\n",
    "for i in y:\n",
    "    if i > 1400:\n",
    "        #popular class\n",
    "        saida_lista.append(1)\n",
    "    else:\n",
    "        #unpopular class\n",
    "        saida_lista.append(0)\n",
    "    \n",
    "    "
   ]
  },
  {
   "cell_type": "code",
   "execution_count": 10,
   "metadata": {},
   "outputs": [
    {
     "data": {
      "text/plain": [
       "pandas.core.series.Series"
      ]
     },
     "execution_count": 10,
     "metadata": {},
     "output_type": "execute_result"
    }
   ],
   "source": [
    "saida = pd.Series(saida_lista)\n",
    "type(saida)"
   ]
  },
  {
   "cell_type": "code",
   "execution_count": 11,
   "metadata": {},
   "outputs": [
    {
     "data": {
      "text/plain": [
       "0    0\n",
       "1    0\n",
       "2    1\n",
       "3    0\n",
       "4    0\n",
       "dtype: int64"
      ]
     },
     "execution_count": 11,
     "metadata": {},
     "output_type": "execute_result"
    }
   ],
   "source": [
    "saida.head()"
   ]
  },
  {
   "cell_type": "markdown",
   "metadata": {},
   "source": [
    "# Grid Search Parameters"
   ]
  },
  {
   "cell_type": "code",
   "execution_count": 12,
   "metadata": {},
   "outputs": [
    {
     "name": "stdout",
     "output_type": "stream",
     "text": [
      "{'n_neighbors': [1, 3, 5, 10, 20]}\n",
      "{'n_estimators': [10, 20, 50, 100, 200, 400]}\n",
      "{'C': [1, 2, 4, 8, 16, 32, 64]}\n"
     ]
    }
   ],
   "source": [
    "#parameters for KNN - number of neighbors\n",
    "lista_k = [1,3,5,10,20]\n",
    "parametros_knn = dict(n_neighbors=lista_k)\n",
    "\n",
    "#parameteres for RF and AdaBoost - number of trees\n",
    "lista_t = [10,20,50,100,200,400]\n",
    "parametros_rf = dict(n_estimators=lista_t)\n",
    "\n",
    "#parameters for SVM\n",
    "lista_c = [1,2,4,8,16,32,64]\n",
    "parametros_rbf = dict(C=lista_c)\n",
    "\n",
    "print(parametros_knn)\n",
    "print(parametros_rf)\n",
    "print(parametros_rbf)"
   ]
  },
  {
   "cell_type": "markdown",
   "metadata": {},
   "source": [
    "# KNN"
   ]
  },
  {
   "cell_type": "code",
   "execution_count": 54,
   "metadata": {},
   "outputs": [],
   "source": [
    "knn = KNeighborsClassifier()\n",
    "grid = GridSearchCV(knn,parametros_knn,cv=10)"
   ]
  },
  {
   "cell_type": "code",
   "execution_count": 55,
   "metadata": {},
   "outputs": [],
   "source": [
    "x_treino, x_teste, y_treino, y_teste = train_test_split(x, saida, test_size=0.3)\n",
    "x_treino = x_treino.dropna()\n",
    "y_treino = y_treino.dropna()"
   ]
  },
  {
   "cell_type": "code",
   "execution_count": 56,
   "metadata": {},
   "outputs": [
    {
     "data": {
      "text/plain": [
       "GridSearchCV(cv=10, estimator=KNeighborsClassifier(),\n",
       "             param_grid={'n_neighbors': [1, 3, 5, 10, 20]})"
      ]
     },
     "execution_count": 56,
     "metadata": {},
     "output_type": "execute_result"
    }
   ],
   "source": [
    "grid.fit(x_treino,y_treino)\n"
   ]
  },
  {
   "cell_type": "code",
   "execution_count": 57,
   "metadata": {},
   "outputs": [
    {
     "data": {
      "text/plain": [
       "{'n_neighbors': 20}"
      ]
     },
     "execution_count": 57,
     "metadata": {},
     "output_type": "execute_result"
    }
   ],
   "source": [
    "grid.best_params_"
   ]
  },
  {
   "cell_type": "code",
   "execution_count": 58,
   "metadata": {},
   "outputs": [
    {
     "data": {
      "text/plain": [
       "0.5738827838827838"
      ]
     },
     "execution_count": 58,
     "metadata": {},
     "output_type": "execute_result"
    }
   ],
   "source": [
    "grid.best_score_"
   ]
  },
  {
   "cell_type": "markdown",
   "metadata": {},
   "source": [
    "# KNN - Prediction Rolling Windows"
   ]
  },
  {
   "cell_type": "code",
   "execution_count": 59,
   "metadata": {},
   "outputs": [],
   "source": [
    "knn = KNeighborsClassifier(n_neighbors=20,p=2)\n",
    "W = 10000\n",
    "L = 1000\n",
    "idxW = 0\n",
    "idxL = idxW + W + 1\n",
    "\n",
    "x_treino = x.iloc[idxW:W,:]\n",
    "y_treino = saida.iloc[idxW:W]\n",
    "x_teste =   x.iloc[idxL:(idxL+L),:]\n",
    "y_teste =  saida.iloc[idxL:(idxL+L)]  \n",
    "knn.fit(x_treino,y_treino)\n",
    "prev_knn = knn.predict(x_teste)\n",
    "\n",
    "idxW = idxW + L\n",
    "W = idxW + 10000\n",
    "idxL = idxW + 10000 + 1\n",
    "\n",
    "for cont in range(28):\n",
    "  x_treino = x.iloc[idxW:W,:]\n",
    "  y_treino = saida.iloc[idxW:W]\n",
    "  x_teste =   x.iloc[idxL:(idxL+L),:]\n",
    "  y_teste_1 =  saida.iloc[idxL:(idxL+L)]  \n",
    "  knn.fit(x_treino,y_treino)\n",
    "  prev_knn_1 = knn.predict(x_teste)\n",
    "  y_teste = pd.concat([y_teste,y_teste_1])  \n",
    "  prev_knn = pd.concat([pd.DataFrame(prev_knn),pd.DataFrame(prev_knn_1)])\n",
    "  idxW = idxW + L\n",
    "  W = idxW + 10000\n",
    "  idxL = idxW + 10000 + 1    \n",
    "\n",
    "\n"
   ]
  },
  {
   "cell_type": "markdown",
   "metadata": {},
   "source": [
    "# KNN Performance"
   ]
  },
  {
   "cell_type": "code",
   "execution_count": 61,
   "metadata": {},
   "outputs": [
    {
     "name": "stdout",
     "output_type": "stream",
     "text": [
      "Accuracy:  0.58\n",
      "Precision: 0.58\n",
      "Recall:    0.42\n",
      "F-1 Score: 0.49\n",
      "AUC:       0.57\n"
     ]
    }
   ],
   "source": [
    "#fpr,tpr,thresholds = metrics.roc_curve(y_teste,prev_knn,pos_label=1)\n",
    "print(f'Accuracy:  {metrics.accuracy_score(y_teste,prev_knn):.2f}')\n",
    "print(f'Precision: {metrics.precision_score(y_teste,prev_knn):.2f}')\n",
    "print(f'Recall:    {metrics.recall_score(y_teste,prev_knn):.2f}')\n",
    "print(f'F-1 Score: {metrics.f1_score(y_teste,prev_knn):.2f}')\n",
    "print(f'AUC:       {metrics.roc_auc_score(y_teste,prev_knn):.2f}')"
   ]
  },
  {
   "cell_type": "code",
   "execution_count": 62,
   "metadata": {},
   "outputs": [
    {
     "data": {
      "image/png": "[encoded data removed]",
      "text/plain": [
       "<Figure size 432x288 with 2 Axes>"
      ]
     },
     "metadata": {},
     "output_type": "display_data"
    }
   ],
   "source": [
    "ax= plt.subplot()\n",
    "array = confusion_matrix(y_teste, prev_knn)      \n",
    "df_cm = pd.DataFrame(array, range(2),\n",
    "                  range(2))\n",
    "#plt.figure(figsize = (10,7))\n",
    "sn.set(font_scale=1.4)#for label size\n",
    "sn.heatmap(df_cm, annot=True,annot_kws={\"size\": 14}, ax = ax,fmt=\"d\")# font size\n",
    "\n",
    "ax.set_xlabel('Predicted labels');ax.set_ylabel('True labels'); \n",
    "ax.set_title('Confusion Matrix for KNN'); \n",
    "#ax.xaxis.set_ticklabels(['Não Popular', 'Popular']); ax.yaxis.set_ticklabels(['Não Popular', 'Popular']);"
   ]
  },
  {
   "cell_type": "markdown",
   "metadata": {},
   "source": [
    "# SVM"
   ]
  },
  {
   "cell_type": "code",
   "execution_count": 13,
   "metadata": {},
   "outputs": [],
   "source": [
    "rbf_svc = svm.SVC(kernel='rbf', gamma=0.7)\n",
    "grid = GridSearchCV(rbf_svc,parametros_rbf,cv=10)\n",
    "\n",
    "x_treino, x_teste, y_treino, y_teste = train_test_split(x, saida, test_size=0.3)\n",
    "x_treino = x_treino.dropna()\n",
    "y_treino = y_treino.dropna()"
   ]
  },
  {
   "cell_type": "code",
   "execution_count": 14,
   "metadata": {},
   "outputs": [
    {
     "data": {
      "text/plain": [
       "GridSearchCV(cv=10, estimator=SVC(gamma=0.7),\n",
       "             param_grid={'C': [1, 2, 4, 8, 16, 32, 64]})"
      ]
     },
     "execution_count": 14,
     "metadata": {},
     "output_type": "execute_result"
    }
   ],
   "source": [
    "grid.fit(x_treino,y_treino)"
   ]
  },
  {
   "cell_type": "code",
   "execution_count": 15,
   "metadata": {},
   "outputs": [
    {
     "data": {
      "text/plain": [
       "{'C': 1}"
      ]
     },
     "execution_count": 15,
     "metadata": {},
     "output_type": "execute_result"
    }
   ],
   "source": [
    "grid.best_params_"
   ]
  },
  {
   "cell_type": "code",
   "execution_count": 16,
   "metadata": {},
   "outputs": [
    {
     "data": {
      "text/plain": [
       "0.5049084249084249"
      ]
     },
     "execution_count": 16,
     "metadata": {},
     "output_type": "execute_result"
    }
   ],
   "source": [
    "grid.best_score_"
   ]
  },
  {
   "cell_type": "markdown",
   "metadata": {},
   "source": [
    "# SVM - Predicition Rolling Windows"
   ]
  },
  {
   "cell_type": "code",
   "execution_count": 17,
   "metadata": {},
   "outputs": [],
   "source": [
    "rbf_svc = svm.SVC(C=1,kernel='rbf', gamma=0.7)"
   ]
  },
  {
   "cell_type": "code",
   "execution_count": 18,
   "metadata": {},
   "outputs": [],
   "source": [
    "W = 10000\n",
    "L = 1000\n",
    "idxW = 0\n",
    "idxL = idxW + W + 1\n",
    "\n",
    "x_treino = x.iloc[idxW:W,:]\n",
    "y_treino = saida.iloc[idxW:W]\n",
    "x_teste =   x.iloc[idxL:(idxL+L),:]\n",
    "y_teste =  saida.iloc[idxL:(idxL+L)]  \n",
    "rbf_svc.fit(x_treino,y_treino)\n",
    "prev_svm = rbf_svc.predict(x_teste)\n",
    "\n",
    "idxW = idxW + L\n",
    "W = idxW + 10000\n",
    "idxL = idxW + 10000 + 1\n",
    "\n",
    "for cont in range(28):\n",
    "  x_treino = x.iloc[idxW:W,:]\n",
    "  y_treino = saida.iloc[idxW:W]\n",
    "  x_teste =   x.iloc[idxL:(idxL+L),:]\n",
    "  y_teste_1 =  saida.iloc[idxL:(idxL+L)]  \n",
    "  rbf_svc.fit(x_treino,y_treino)\n",
    "  prev_svm_1 = rbf_svc.predict(x_teste)\n",
    "  y_teste = pd.concat([y_teste,y_teste_1])  \n",
    "  prev_svm = pd.concat([pd.DataFrame(prev_svm),pd.DataFrame(prev_svm_1)])\n",
    "  idxW = idxW + L\n",
    "  W = idxW + 10000\n",
    "  idxL = idxW + 10000 + 1    "
   ]
  },
  {
   "cell_type": "markdown",
   "metadata": {},
   "source": [
    "# SVM - Performance"
   ]
  },
  {
   "cell_type": "code",
   "execution_count": 19,
   "metadata": {},
   "outputs": [
    {
     "name": "stdout",
     "output_type": "stream",
     "text": [
      "Accuracy:  0.50\n",
      "Precision: 0.48\n",
      "Recall:    0.55\n",
      "F-1 Score: 0.52\n",
      "AUC:       0.50\n"
     ]
    }
   ],
   "source": [
    "print(f'Accuracy:  {metrics.accuracy_score(y_teste,prev_svm):.2f}')\n",
    "print(f'Precision: {metrics.precision_score(y_teste,prev_svm):.2f}')\n",
    "print(f'Recall:    {metrics.recall_score(y_teste,prev_svm):.2f}')\n",
    "print(f'F-1 Score: {metrics.f1_score(y_teste,prev_svm):.2f}')\n",
    "print(f'AUC:       {metrics.roc_auc_score(y_teste,prev_svm):.2f}')"
   ]
  },
  {
   "cell_type": "code",
   "execution_count": 20,
   "metadata": {},
   "outputs": [
    {
     "data": {
      "image/png": "[encoded data removed]",
      "text/plain": [
       "<Figure size 432x288 with 2 Axes>"
      ]
     },
     "metadata": {
      "needs_background": "light"
     },
     "output_type": "display_data"
    }
   ],
   "source": [
    "ax= plt.subplot()\n",
    "array = confusion_matrix(y_teste, prev_svm)      \n",
    "df_cm = pd.DataFrame(array, range(2),\n",
    "                  range(2))\n",
    "#plt.figure(figsize = (10,7))\n",
    "sn.set(font_scale=1.4)#for label size\n",
    "sn.heatmap(df_cm, annot=True,annot_kws={\"size\": 14}, ax = ax,fmt=\"d\")# font size\n",
    "\n",
    "ax.set_xlabel('Predicted labels');ax.set_ylabel('True labels'); \n",
    "ax.set_title('Confusion Matrix for SVM'); "
   ]
  },
  {
   "cell_type": "markdown",
   "metadata": {},
   "source": [
    "# Random Forest"
   ]
  },
  {
   "cell_type": "code",
   "execution_count": 21,
   "metadata": {},
   "outputs": [],
   "source": [
    "rf = RandomForestClassifier(random_state=1986,\n",
    "                           criterion='gini',\n",
    "                           max_depth=10,\n",
    "                           n_estimators=50,\n",
    "                           n_jobs=-1)\n",
    "\n",
    "grid = GridSearchCV(rf,parametros_rf,cv=10)"
   ]
  },
  {
   "cell_type": "code",
   "execution_count": 22,
   "metadata": {},
   "outputs": [],
   "source": [
    "x_treino, x_teste, y_treino, y_teste = train_test_split(x, saida, test_size=0.3)\n",
    "x_treino = x_treino.dropna()\n",
    "y_treino = y_treino.dropna()"
   ]
  },
  {
   "cell_type": "code",
   "execution_count": 23,
   "metadata": {},
   "outputs": [
    {
     "data": {
      "text/plain": [
       "GridSearchCV(cv=10,\n",
       "             estimator=RandomForestClassifier(max_depth=10, n_estimators=50,\n",
       "                                              n_jobs=-1, random_state=1986),\n",
       "             param_grid={'n_estimators': [10, 20, 50, 100, 200, 400]})"
      ]
     },
     "execution_count": 23,
     "metadata": {},
     "output_type": "execute_result"
    }
   ],
   "source": [
    "grid.fit(x_treino,y_treino)"
   ]
  },
  {
   "cell_type": "code",
   "execution_count": 24,
   "metadata": {},
   "outputs": [
    {
     "data": {
      "text/plain": [
       "{'n_estimators': 200}"
      ]
     },
     "execution_count": 24,
     "metadata": {},
     "output_type": "execute_result"
    }
   ],
   "source": [
    "grid.best_params_"
   ]
  },
  {
   "cell_type": "code",
   "execution_count": 25,
   "metadata": {},
   "outputs": [
    {
     "data": {
      "text/plain": [
       "0.6661172161172162"
      ]
     },
     "execution_count": 25,
     "metadata": {},
     "output_type": "execute_result"
    }
   ],
   "source": [
    "grid.best_score_"
   ]
  },
  {
   "cell_type": "markdown",
   "metadata": {},
   "source": [
    "# Random Forest - Prediction Rolling Windows"
   ]
  },
  {
   "cell_type": "code",
   "execution_count": 26,
   "metadata": {},
   "outputs": [],
   "source": [
    "rf = RandomForestClassifier(random_state=1986,\n",
    "                           criterion='gini',\n",
    "                           max_depth=10,\n",
    "                           n_estimators=200,\n",
    "                           n_jobs=-1)"
   ]
  },
  {
   "cell_type": "code",
   "execution_count": 27,
   "metadata": {},
   "outputs": [],
   "source": [
    "W = 10000\n",
    "L = 1000\n",
    "idxW = 0\n",
    "idxL = idxW + W + 1\n",
    "\n",
    "x_treino = x.iloc[idxW:W,:]\n",
    "y_treino = saida.iloc[idxW:W]\n",
    "x_teste =   x.iloc[idxL:(idxL+L),:]\n",
    "y_teste =  saida.iloc[idxL:(idxL+L)]  \n",
    "rf.fit(x_treino,y_treino)\n",
    "prev_rf = rf.predict(x_teste)\n",
    "\n",
    "idxW = idxW + L\n",
    "W = idxW + 10000\n",
    "idxL = idxW + 10000 + 1\n",
    "\n",
    "for cont in range(28):\n",
    "  x_treino = x.iloc[idxW:W,:]\n",
    "  y_treino = saida.iloc[idxW:W]\n",
    "  x_teste =   x.iloc[idxL:(idxL+L),:]\n",
    "  y_teste_1 =  saida.iloc[idxL:(idxL+L)]  \n",
    "  rf.fit(x_treino,y_treino)\n",
    "  prev_rf_1 = rf.predict(x_teste)\n",
    "  y_teste = pd.concat([y_teste,y_teste_1])  \n",
    "  prev_rf = pd.concat([pd.DataFrame(prev_rf),pd.DataFrame(prev_rf_1)])\n",
    "  idxW = idxW + L\n",
    "  W = idxW + 10000\n",
    "  idxL = idxW + 10000 + 1  "
   ]
  },
  {
   "cell_type": "markdown",
   "metadata": {},
   "source": [
    "# Random Forest - Performance"
   ]
  },
  {
   "cell_type": "code",
   "execution_count": 28,
   "metadata": {},
   "outputs": [
    {
     "name": "stdout",
     "output_type": "stream",
     "text": [
      "Accuracy:  0.67\n",
      "Precision: 0.66\n",
      "Recall:    0.65\n",
      "F-1 Score: 0.65\n",
      "AUC:       0.67\n"
     ]
    }
   ],
   "source": [
    "print(f'Accuracy:  {metrics.accuracy_score(y_teste,prev_rf):.2f}')\n",
    "print(f'Precision: {metrics.precision_score(y_teste,prev_rf):.2f}')\n",
    "print(f'Recall:    {metrics.recall_score(y_teste,prev_rf):.2f}')\n",
    "print(f'F-1 Score: {metrics.f1_score(y_teste,prev_rf):.2f}')\n",
    "print(f'AUC:       {metrics.roc_auc_score(y_teste,prev_rf):.2f}')"
   ]
  },
  {
   "cell_type": "code",
   "execution_count": 29,
   "metadata": {},
   "outputs": [
    {
     "data": {
      "image/png": "[encoded data removed]",
      "text/plain": [
       "<Figure size 432x288 with 2 Axes>"
      ]
     },
     "metadata": {},
     "output_type": "display_data"
    }
   ],
   "source": [
    "ax= plt.subplot()\n",
    "array = confusion_matrix(y_teste, prev_rf)      \n",
    "df_cm = pd.DataFrame(array, range(2),\n",
    "                  range(2))\n",
    "#plt.figure(figsize = (10,7))\n",
    "sn.set(font_scale=1.4)#for label size\n",
    "sn.heatmap(df_cm, annot=True,annot_kws={\"size\": 14}, ax = ax,fmt=\"d\")# font size\n",
    "\n",
    "ax.set_xlabel('Predicted labels');ax.set_ylabel('True labels'); \n",
    "ax.set_title('Confusion Matrix for Random Forest'); "
   ]
  },
  {
   "cell_type": "markdown",
   "metadata": {},
   "source": [
    "# AdaBoost"
   ]
  },
  {
   "cell_type": "code",
   "execution_count": 38,
   "metadata": {},
   "outputs": [],
   "source": [
    "ada = AdaBoostClassifier(n_estimators=50, learning_rate=1, random_state=1986)\n",
    "\n",
    "grid = GridSearchCV(ada,parametros_rf,cv=10)"
   ]
  },
  {
   "cell_type": "code",
   "execution_count": 39,
   "metadata": {},
   "outputs": [],
   "source": [
    "x_treino, x_teste, y_treino, y_teste = train_test_split(x, saida, test_size=0.3)\n",
    "x_treino = x_treino.dropna()\n",
    "y_treino = y_treino.dropna()"
   ]
  },
  {
   "cell_type": "code",
   "execution_count": 40,
   "metadata": {},
   "outputs": [
    {
     "data": {
      "text/plain": [
       "GridSearchCV(cv=10,\n",
       "             estimator=AdaBoostClassifier(learning_rate=1, random_state=1986),\n",
       "             param_grid={'n_estimators': [10, 20, 50, 100, 200, 400]})"
      ]
     },
     "execution_count": 40,
     "metadata": {},
     "output_type": "execute_result"
    }
   ],
   "source": [
    "grid.fit(x_treino,y_treino)"
   ]
  },
  {
   "cell_type": "code",
   "execution_count": 41,
   "metadata": {},
   "outputs": [
    {
     "data": {
      "text/plain": [
       "{'n_estimators': 400}"
      ]
     },
     "execution_count": 41,
     "metadata": {},
     "output_type": "execute_result"
    }
   ],
   "source": [
    "grid.best_params_"
   ]
  },
  {
   "cell_type": "code",
   "execution_count": 42,
   "metadata": {},
   "outputs": [
    {
     "data": {
      "text/plain": [
       "0.6607692307692309"
      ]
     },
     "execution_count": 42,
     "metadata": {},
     "output_type": "execute_result"
    }
   ],
   "source": [
    "grid.best_score_"
   ]
  },
  {
   "cell_type": "markdown",
   "metadata": {},
   "source": [
    "# AdaBoost - Prediction Rolling Windows"
   ]
  },
  {
   "cell_type": "code",
   "execution_count": 43,
   "metadata": {},
   "outputs": [],
   "source": [
    "ada = AdaBoostClassifier(n_estimators=400, learning_rate=1, random_state=1986)"
   ]
  },
  {
   "cell_type": "code",
   "execution_count": 44,
   "metadata": {},
   "outputs": [],
   "source": [
    "W = 10000\n",
    "L = 1000\n",
    "idxW = 0\n",
    "idxL = idxW + W + 1\n",
    "\n",
    "x_treino = x.iloc[idxW:W,:]\n",
    "y_treino = saida.iloc[idxW:W]\n",
    "x_teste =   x.iloc[idxL:(idxL+L),:]\n",
    "y_teste =  saida.iloc[idxL:(idxL+L)]  \n",
    "ada.fit(x_treino,y_treino)\n",
    "prev_ada = ada.predict(x_teste)\n",
    "\n",
    "idxW = idxW + L\n",
    "W = idxW + 10000\n",
    "idxL = idxW + 10000 + 1\n",
    "\n",
    "for cont in range(28):\n",
    "  x_treino = x.iloc[idxW:W,:]\n",
    "  y_treino = saida.iloc[idxW:W]\n",
    "  x_teste =   x.iloc[idxL:(idxL+L),:]\n",
    "  y_teste_1 =  saida.iloc[idxL:(idxL+L)]  \n",
    "  ada.fit(x_treino,y_treino)\n",
    "  prev_ada_1 = ada.predict(x_teste)\n",
    "  y_teste = pd.concat([y_teste,y_teste_1])  \n",
    "  prev_ada = pd.concat([pd.DataFrame(prev_ada),pd.DataFrame(prev_ada_1)])\n",
    "  idxW = idxW + L\n",
    "  W = idxW + 10000\n",
    "  idxL = idxW + 10000 + 1 "
   ]
  },
  {
   "cell_type": "markdown",
   "metadata": {},
   "source": [
    "# AdaBoost - Performance"
   ]
  },
  {
   "cell_type": "code",
   "execution_count": 45,
   "metadata": {},
   "outputs": [
    {
     "name": "stdout",
     "output_type": "stream",
     "text": [
      "Accuracy:  0.66\n",
      "Precision: 0.65\n",
      "Recall:    0.62\n",
      "F-1 Score: 0.64\n",
      "AUC:       0.66\n"
     ]
    }
   ],
   "source": [
    "print(f'Accuracy:  {metrics.accuracy_score(y_teste,prev_ada):.2f}')\n",
    "print(f'Precision: {metrics.precision_score(y_teste,prev_ada):.2f}')\n",
    "print(f'Recall:    {metrics.recall_score(y_teste,prev_ada):.2f}')\n",
    "print(f'F-1 Score: {metrics.f1_score(y_teste,prev_ada):.2f}')\n",
    "print(f'AUC:       {metrics.roc_auc_score(y_teste,prev_ada):.2f}')"
   ]
  },
  {
   "cell_type": "code",
   "execution_count": 46,
   "metadata": {},
   "outputs": [
    {
     "data": {
      "image/png": "[encoded data removed]",
      "text/plain": [
       "<Figure size 432x288 with 2 Axes>"
      ]
     },
     "metadata": {},
     "output_type": "display_data"
    }
   ],
   "source": [
    "ax= plt.subplot()\n",
    "array = confusion_matrix(y_teste, prev_ada)      \n",
    "df_cm = pd.DataFrame(array, range(2),\n",
    "                  range(2))\n",
    "#plt.figure(figsize = (10,7))\n",
    "sn.set(font_scale=1.4)#for label size\n",
    "sn.heatmap(df_cm, annot=True,annot_kws={\"size\": 14}, ax = ax,fmt=\"d\")# font size\n",
    "\n",
    "ax.set_xlabel('Predicted labels');ax.set_ylabel('True labels'); \n",
    "ax.set_title('Confusion Matrix for AdaBoost'); "
   ]
  },
  {
   "cell_type": "markdown",
   "metadata": {},
   "source": [
    "# Naive Bayes"
   ]
  },
  {
   "cell_type": "code",
   "execution_count": 47,
   "metadata": {},
   "outputs": [],
   "source": [
    "gnb = GaussianNB()\n"
   ]
  },
  {
   "cell_type": "markdown",
   "metadata": {},
   "source": [
    "# Naive Bayes - Prediction Rolling Windows"
   ]
  },
  {
   "cell_type": "code",
   "execution_count": 48,
   "metadata": {},
   "outputs": [],
   "source": [
    "W = 10000\n",
    "L = 1000\n",
    "idxW = 0\n",
    "idxL = idxW + W + 1\n",
    "\n",
    "x_treino = x.iloc[idxW:W,:]\n",
    "y_treino = saida.iloc[idxW:W]\n",
    "x_teste =   x.iloc[idxL:(idxL+L),:]\n",
    "y_teste =  saida.iloc[idxL:(idxL+L)]  \n",
    "gnb.fit(x_treino,y_treino)\n",
    "prev_gnb = gnb.predict(x_teste)\n",
    "\n",
    "idxW = idxW + L\n",
    "W = idxW + 10000\n",
    "idxL = idxW + 10000 + 1\n",
    "\n",
    "for cont in range(28):\n",
    "  x_treino = x.iloc[idxW:W,:]\n",
    "  y_treino = saida.iloc[idxW:W]\n",
    "  x_teste =   x.iloc[idxL:(idxL+L),:]\n",
    "  y_teste_1 =  saida.iloc[idxL:(idxL+L)]  \n",
    "  gnb.fit(x_treino,y_treino)\n",
    "  prev_gnb_1 = gnb.predict(x_teste)\n",
    "  y_teste = pd.concat([y_teste,y_teste_1])  \n",
    "  prev_gnb = pd.concat([pd.DataFrame(prev_gnb),pd.DataFrame(prev_gnb_1)])\n",
    "  idxW = idxW + L\n",
    "  W = idxW + 10000\n",
    "  idxL = idxW + 10000 + 1 "
   ]
  },
  {
   "cell_type": "markdown",
   "metadata": {},
   "source": [
    "# Naive Bayes - Performance"
   ]
  },
  {
   "cell_type": "code",
   "execution_count": 49,
   "metadata": {},
   "outputs": [
    {
     "name": "stdout",
     "output_type": "stream",
     "text": [
      "Accuracy:  0.56\n",
      "Precision: 0.65\n",
      "Recall:    0.17\n",
      "F-1 Score: 0.27\n",
      "AUC:       0.54\n"
     ]
    }
   ],
   "source": [
    "print(f'Accuracy:  {metrics.accuracy_score(y_teste,prev_gnb):.2f}')\n",
    "print(f'Precision: {metrics.precision_score(y_teste,prev_gnb):.2f}')\n",
    "print(f'Recall:    {metrics.recall_score(y_teste,prev_gnb):.2f}')\n",
    "print(f'F-1 Score: {metrics.f1_score(y_teste,prev_gnb):.2f}')\n",
    "print(f'AUC:       {metrics.roc_auc_score(y_teste,prev_gnb):.2f}')"
   ]
  },
  {
   "cell_type": "code",
   "execution_count": 50,
   "metadata": {},
   "outputs": [
    {
     "data": {
      "image/png": "[encoded data removed]",
      "text/plain": [
       "<Figure size 432x288 with 2 Axes>"
      ]
     },
     "metadata": {},
     "output_type": "display_data"
    }
   ],
   "source": [
    "ax= plt.subplot()\n",
    "array = confusion_matrix(y_teste, prev_gnb)      \n",
    "df_cm = pd.DataFrame(array, range(2),\n",
    "                  range(2))\n",
    "#plt.figure(figsize = (10,7))\n",
    "sn.set(font_scale=1.4)#for label size\n",
    "sn.heatmap(df_cm, annot=True,annot_kws={\"size\": 14}, ax = ax,fmt=\"d\")# font size\n",
    "\n",
    "ax.set_xlabel('Predicted labels');ax.set_ylabel('True labels'); \n",
    "ax.set_title('Confusion Matrix for Naive Bayes'); "
   ]
  },
  {
   "cell_type": "markdown",
   "metadata": {},
   "source": [
    "# Persistência\n"
   ]
  },
  {
   "cell_type": "code",
   "execution_count": 121,
   "metadata": {},
   "outputs": [],
   "source": [
    " import joblib"
   ]
  },
  {
   "cell_type": "code",
   "execution_count": 122,
   "metadata": {},
   "outputs": [
    {
     "data": {
      "text/plain": [
       "['ada_model']"
      ]
     },
     "execution_count": 122,
     "metadata": {},
     "output_type": "execute_result"
    }
   ],
   "source": [
    "joblib.dump(knn,'knn_model')\n",
    "joblib.dump(gnb,'gnb_model')\n",
    "joblib.dump(rbf_svc,'svm_model')\n",
    "joblib.dump(rf,'rf_model')\n",
    "joblib.dump(ada,'ada_model')"
   ]
  },
  {
   "cell_type": "code",
   "execution_count": 85,
   "metadata": {},
   "outputs": [],
   "source": [
    "model = joblib.load('knn_model')\n",
    "resultados = model.predict(x_teste)"
   ]
  },
  {
   "cell_type": "code",
   "execution_count": 86,
   "metadata": {},
   "outputs": [
    {
     "name": "stdout",
     "output_type": "stream",
     "text": [
      "[1 0 0 ... 0 1 1]\n"
     ]
    }
   ],
   "source": [
    "print(resultados)"
   ]
  },
  {
   "cell_type": "markdown",
   "metadata": {},
   "source": [
    "# Conclusions"
   ]
  },
  {
   "cell_type": "markdown",
   "metadata": {},
   "source": [
    "<div align=\"justify\">We reproduce the experiments carried out by Fernandes et al. [1] Using five Machine Learning models to Classify a News Article as Popular or Unpopular. We found that the best model is the Random Forest with an accuracy of 67%, precisely as in the article. However, the AUC metric was 0.67 instead of the 0.73  found in the article.<br>\n",
    "\n",
    "We also noticed the difference in the performance of the KNN and SVM models. A possible explanation is that the partitions performed were not the same, and some possible optimization of the code we stopped doing. However, the main result was marked; we hope that this code will be useful for those who wish to study the Data Set and go deeper into the models. </div>"
   ]
  },
  {
   "cell_type": "markdown",
   "metadata": {},
   "source": [
    "\n",
    "# References"
   ]
  },
  {
   "cell_type": "markdown",
   "metadata": {},
   "source": [
    "<div>[1] K. Fernandes, P. Vinagre and P. Cortez. A Proactive Intelligent Decision Support System for Predicting the Popularity of Online News. Proceedings of the 17th EPIA 2015 - Portuguese Conference on Artificial Intelligence, September, Coimbra, Portugal.</div>"
   ]
  },
  {
   "cell_type": "code",
   "execution_count": null,
   "metadata": {},
   "outputs": [],
   "source": []
  }
 ],
 "metadata": {
  "kernelspec": {
   "display_name": "Python 3",
   "language": "python",
   "name": "python3"
  },
  "language_info": {
   "codemirror_mode": {
    "name": "ipython",
    "version": 3
   },
   "file_extension": ".py",
   "mimetype": "text/x-python",
   "name": "python",
   "nbconvert_exporter": "python",
   "pygments_lexer": "ipython3",
   "version": "3.8.4rc1"
  }
 },
 "nbformat": 4,
 "nbformat_minor": 4
}
